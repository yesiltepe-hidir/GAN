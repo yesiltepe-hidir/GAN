{
  "nbformat": 4,
  "nbformat_minor": 0,
  "metadata": {
    "colab": {
      "name": "StyleSwinV2.ipynb",
      "provenance": [],
      "authorship_tag": "ABX9TyO7CTPQ1oCQu9PYz/eooVqE",
      "include_colab_link": true
    },
    "kernelspec": {
      "name": "python3",
      "display_name": "Python 3"
    },
    "language_info": {
      "name": "python"
    }
  },
  "cells": [
    {
      "cell_type": "markdown",
      "metadata": {
        "id": "view-in-github",
        "colab_type": "text"
      },
      "source": [
        "<a href=\"https://colab.research.google.com/github/yesiltepe-hidir/GAN/blob/main/StyleSwinV2.ipynb\" target=\"_parent\"><img src=\"https://colab.research.google.com/assets/colab-badge.svg\" alt=\"Open In Colab\"/></a>"
      ]
    },
    {
      "cell_type": "markdown",
      "source": [
        "## Libraries"
      ],
      "metadata": {
        "id": "qhP6gOhM6IKI"
      }
    },
    {
      "cell_type": "code",
      "source": [
        "import torch\n",
        "import torch.nn as nn\n",
        "import numpy as np"
      ],
      "metadata": {
        "id": "XGIkrwU7ykwJ"
      },
      "execution_count": 15,
      "outputs": []
    },
    {
      "cell_type": "markdown",
      "source": [
        "## Constant Input"
      ],
      "metadata": {
        "id": "BbAy-rGt7ZzK"
      }
    },
    {
      "cell_type": "code",
      "source": [
        "class ConstantInput(nn.Module):\n",
        "  '''\n",
        "  Generator takes constant [B x H x W x C] dimensional feature map and gradually\n",
        "  upsamples this feature map through cascade of transformer blocks. \n",
        "\n",
        "  Important Note: Every batch will get the same constant input.\n",
        "\n",
        "  Args:\n",
        "      dim: Spatial dimension, i.e dimension of H and W.\n",
        "      channel_dim: dimension across channels.\n",
        "  \n",
        "  Returns: \n",
        "    constant_input: Initial feature map of size [B x H x W x C]\n",
        "\n",
        "\n",
        "  '''\n",
        "  def __init__(self, dim, channel_dim):\n",
        "    super().__init__()\n",
        "    self.dim = dim\n",
        "    self.channel_dim = channel_dim\n",
        "    self.const = nn.Parameter(torch.randn(1, dim, dim, channel_dim))\n",
        "\n",
        "  def forward(self, batch_size):\n",
        "    constant_input = self.const.repeat(batch_size, 1, 1, 1)\n",
        "    return constant_input"
      ],
      "metadata": {
        "id": "peD-QAfp3Gck"
      },
      "execution_count": 13,
      "outputs": []
    },
    {
      "cell_type": "code",
      "source": [
        "# TEST\n",
        "\n",
        "# Config\n",
        "dim = 4\n",
        "channel_dim = 512\n",
        "batch_size = 2\n",
        "\n",
        "\n",
        "const = ConstantInput(dim, channel_dim)\n",
        "const = const(2)\n",
        "print(\"Constant Input size: \", const.size())"
      ],
      "metadata": {
        "colab": {
          "base_uri": "https://localhost:8080/"
        },
        "id": "D7iCUOTs6yJ1",
        "outputId": "628f9d57-7911-405a-c78e-e17faaa5e3a5"
      },
      "execution_count": 70,
      "outputs": [
        {
          "output_type": "stream",
          "name": "stdout",
          "text": [
            "Constant Input size:  torch.Size([2, 4, 4, 512])\n"
          ]
        }
      ]
    },
    {
      "cell_type": "markdown",
      "source": [
        "## Sinusodial Positional Encoding"
      ],
      "metadata": {
        "id": "_kWmUDv-7HBn"
      }
    },
    {
      "cell_type": "code",
      "source": [
        "class SinusoidalPositionalEmbedding(nn.Module):\n",
        "    def __init__(self,\n",
        "                 embedding_dim,\n",
        "                 padding_idx,\n",
        "                 init_size=1024,\n",
        "                 div_half_dim=False,\n",
        "                 center_shift=None):\n",
        "        super().__init__()\n",
        "        self.embedding_dim = embedding_dim\n",
        "        self.padding_idx = padding_idx\n",
        "        self.div_half_dim = div_half_dim\n",
        "        self.center_shift = center_shift\n",
        "\n",
        "        self.weights = SinusoidalPositionalEmbedding.get_embedding(\n",
        "            init_size, embedding_dim, padding_idx, self.div_half_dim)\n",
        "\n",
        "        self.register_buffer('_float_tensor', torch.FloatTensor(1))\n",
        "\n",
        "        self.max_positions = int(1e5)\n",
        "\n",
        "    @staticmethod\n",
        "    def get_embedding(num_embeddings,\n",
        "                      embedding_dim,\n",
        "                      padding_idx=None,\n",
        "                      div_half_dim=False):\n",
        "        \"\"\"Build sinusoidal embeddings.\n",
        "        This matches the implementation in tensor2tensor, but differs slightly\n",
        "        from the description in Section 3.5 of \"Attention Is All You Need\".\n",
        "        \"\"\"\n",
        "        assert embedding_dim % 2 == 0, (\n",
        "            'In this version, we request '\n",
        "            f'embedding_dim divisible by 2 but got {embedding_dim}')\n",
        "\n",
        "        # there is a little difference from the original paper.\n",
        "        half_dim = embedding_dim // 2\n",
        "        if not div_half_dim:\n",
        "            emb = np.log(10000) / (half_dim - 1)\n",
        "        else:\n",
        "            emb = np.log(1e4) / half_dim\n",
        "        # compute exp(-log10000 / d * i)\n",
        "        emb = torch.exp(torch.arange(half_dim, dtype=torch.float) * -emb)\n",
        "        emb = torch.arange(\n",
        "            num_embeddings, dtype=torch.float).unsqueeze(1) * emb.unsqueeze(0)\n",
        "        emb = torch.cat([torch.sin(emb), torch.cos(emb)],\n",
        "                        dim=1).view(num_embeddings, -1)\n",
        "        if padding_idx is not None:\n",
        "            emb[padding_idx, :] = 0\n",
        "\n",
        "        return emb\n",
        "\n",
        "    def forward(self, input, **kwargs):\n",
        "        \"\"\"Input is expected to be of size [bsz x seqlen].\n",
        "        Returned tensor is expected to be of size  [bsz x seq_len x emb_dim]\n",
        "        \"\"\"\n",
        "        assert input.dim() == 2 or input.dim(\n",
        "        ) == 4, 'Input dimension should be 2 (1D) or 4(2D)'\n",
        "\n",
        "        if input.dim() == 4:\n",
        "            return self.make_grid2d_like(input, **kwargs)\n",
        "\n",
        "        b, seq_len = input.shape\n",
        "        max_pos = self.padding_idx + 1 + seq_len\n",
        "\n",
        "        if self.weights is None or max_pos > self.weights.size(0):\n",
        "            # recompute/expand embedding if needed\n",
        "            self.weights = SinusoidalPositionalEmbedding.get_embedding(\n",
        "                max_pos, self.embedding_dim, self.padding_idx)\n",
        "        self.weights = self.weights.to(self._float_tensor)\n",
        "\n",
        "        positions = self.make_positions(input, self.padding_idx).to(\n",
        "            self._float_tensor.device)\n",
        "\n",
        "        return self.weights.index_select(0, positions.view(-1)).view(\n",
        "            b, seq_len, self.embedding_dim).detach()\n",
        "\n",
        "    def make_positions(self, input, padding_idx):\n",
        "        mask = input.ne(padding_idx).int()\n",
        "        return (torch.cumsum(mask, dim=1).type_as(mask) *\n",
        "                mask).long() + padding_idx\n",
        "\n",
        "    def make_grid2d(self, height, width, num_batches=1, center_shift=None):\n",
        "        h, w = height, width\n",
        "        # if `center_shift` is not given from the outside, use\n",
        "        # `self.center_shift`\n",
        "        if center_shift is None:\n",
        "            center_shift = self.center_shift\n",
        "\n",
        "        h_shift = 0\n",
        "        w_shift = 0\n",
        "        # center shift to the input grid\n",
        "        if center_shift is not None:\n",
        "            # if h/w is even, the left center should be aligned with\n",
        "            # center shift\n",
        "            if h % 2 == 0:\n",
        "                h_left_center = h // 2\n",
        "                h_shift = center_shift - h_left_center\n",
        "            else:\n",
        "                h_center = h // 2 + 1\n",
        "                h_shift = center_shift - h_center\n",
        "\n",
        "            if w % 2 == 0:\n",
        "                w_left_center = w // 2\n",
        "                w_shift = center_shift - w_left_center\n",
        "            else:\n",
        "                w_center = w // 2 + 1\n",
        "                w_shift = center_shift - w_center\n",
        "\n",
        "        # Note that the index is started from 1 since zero will be padding idx.\n",
        "        # axis -- (b, h or w)\n",
        "        x_axis = torch.arange(1, w + 1).unsqueeze(0).repeat(num_batches,\n",
        "                                                            1) + w_shift\n",
        "        y_axis = torch.arange(1, h + 1).unsqueeze(0).repeat(num_batches,\n",
        "                                                            1) + h_shift\n",
        "\n",
        "        # emb -- (b, emb_dim, h or w)\n",
        "        x_emb = self(x_axis).transpose(1, 2)\n",
        "        y_emb = self(y_axis).transpose(1, 2)\n",
        "\n",
        "        # make grid for x/y axis\n",
        "        # Note that repeat will copy data. If use learned emb, expand may be\n",
        "        # better.\n",
        "        x_grid = x_emb.unsqueeze(2).repeat(1, 1, h, 1)\n",
        "        y_grid = y_emb.unsqueeze(3).repeat(1, 1, 1, w)\n",
        "\n",
        "        # cat grid -- (b, 2 x emb_dim, h, w)\n",
        "        grid = torch.cat([x_grid, y_grid], dim=1)\n",
        "        return grid.detach()\n",
        "\n",
        "    def make_grid2d_like(self, x, center_shift=None):\n",
        "        \"\"\"Input tensor with shape of (b, ..., h, w) Return tensor with shape\n",
        "        of (b, 2 x emb_dim, h, w)\n",
        "        Note that the positional embedding highly depends on the the function,\n",
        "        ``make_positions``.\n",
        "        \"\"\"\n",
        "        h, w = x.shape[-2:]\n",
        "        grid = self.make_grid2d(h, w, x.size(0), center_shift)\n",
        "\n",
        "        return grid.to(x)"
      ],
      "metadata": {
        "id": "wj79Yb-S7fMi"
      },
      "execution_count": 17,
      "outputs": []
    },
    {
      "cell_type": "code",
      "source": [
        "# TEST\n",
        "embedding_dim = 256\n",
        "padding_idx = 0\n",
        "init_size = 256\n",
        "\n",
        "spe = SinusoidalPositionalEmbedding(embedding_dim=embedding_dim,\n",
        "                                    padding_idx = padding_idx,\n",
        "                                    init_size = init_size)\n",
        "\n",
        "h, w, b = const.size(1), const.size(2), const.size(0)\n",
        "spe = spe.make_grid2d(h, w, b).permute(0, 2, 3, 1)\n",
        "print(\"Constant Input:\", const.size())\n",
        "print(\"SPE:\", spe.size())"
      ],
      "metadata": {
        "colab": {
          "base_uri": "https://localhost:8080/"
        },
        "id": "gWnyaQsk8dlb",
        "outputId": "9e046970-ca9b-4ef0-edff-cf63d0274707"
      },
      "execution_count": 71,
      "outputs": [
        {
          "output_type": "stream",
          "name": "stdout",
          "text": [
            "Constant Input: torch.Size([2, 4, 4, 512])\n",
            "SPE: torch.Size([2, 4, 4, 512])\n"
          ]
        }
      ]
    },
    {
      "cell_type": "code",
      "source": [
        "input = const + spe"
      ],
      "metadata": {
        "id": "v_pxJwhnHPQx"
      },
      "execution_count": 72,
      "outputs": []
    },
    {
      "cell_type": "markdown",
      "source": [
        "## Adaptive Instance Norm"
      ],
      "metadata": {
        "id": "mdj5KV4AAJrM"
      }
    },
    {
      "cell_type": "code",
      "source": [
        "class AdaIN(nn.Module):\n",
        "  '''\n",
        "  Input: [B x C x H x W]\n",
        "  '''\n",
        "  def __init__(self, in_channels, style_dim):\n",
        "    super().__init__()\n",
        "    self.proj = nn.Linear(style_dim, 2 * in_channels)\n",
        "    self.norm = nn.InstanceNorm1d(in_channels)\n",
        "\n",
        "  def forward(self, input, style):\n",
        "    style = self.proj(style).unsqueeze(-1) \n",
        "    mean, std = style.chunk(2, 1) # [B x C x 1] - [B x C x 1]\n",
        "\n",
        "    B, C, _, _ = input.size()\n",
        "    normalized = self.norm(input.view(B, C, -1))\n",
        "    normalized = std * normalized + mean\n",
        "\n",
        "    return normalized.transpose(-1, -2)"
      ],
      "metadata": {
        "id": "ITOHVfpXA_ur"
      },
      "execution_count": 75,
      "outputs": []
    },
    {
      "cell_type": "code",
      "source": [
        "# TEST\n",
        "x = input.clone()\n",
        "style_dim = 256\n",
        "style = torch.randn(batch_size, style_dim)\n",
        "adain = AdaIN(channel_dim, style_dim)\n",
        "x = adain(x.permute(0, 3, 1, 2), style)\n",
        "x.size()"
      ],
      "metadata": {
        "colab": {
          "base_uri": "https://localhost:8080/"
        },
        "id": "TtK9m_kRE1qy",
        "outputId": "fb1d336c-d833-417f-c141-413bc33070c1"
      },
      "execution_count": 76,
      "outputs": [
        {
          "output_type": "execute_result",
          "data": {
            "text/plain": [
              "torch.Size([2, 16, 512])"
            ]
          },
          "metadata": {},
          "execution_count": 76
        }
      ]
    },
    {
      "cell_type": "markdown",
      "source": [
        "## Double Attention"
      ],
      "metadata": {
        "id": "PQnIdz6LiCL6"
      }
    },
    {
      "cell_type": "code",
      "source": [
        "class WindowAttention(nn.Module):\n",
        "    r\"\"\" Window based multi-head self attention (W-MSA) module with relative position bias.\n",
        "    It supports both of shifted and non-shifted window.\n",
        "    Args:\n",
        "        dim (int): Number of input channels.\n",
        "        window_size (tuple[int]): The height and width of the window.\n",
        "        num_heads (int): Number of attention heads.\n",
        "        qkv_bias (bool, optional):  If True, add a learnable bias to query, key, value. Default: True\n",
        "        qk_scale (float | None, optional): Override default qk scale of head_dim ** -0.5 if set\n",
        "        attn_drop (float, optional): Dropout ratio of attention weight. Default: 0.0\n",
        "    \"\"\"\n",
        "\n",
        "    def __init__(self, dim, window_size, num_heads, qk_scale=None, attn_drop=0.):\n",
        "\n",
        "        super().__init__()\n",
        "        self.dim = dim\n",
        "        self.window_size = window_size  # Wh, Ww\n",
        "        self.num_heads = num_heads\n",
        "        head_dim = dim // num_heads\n",
        "        self.head_dim = head_dim\n",
        "        self.scale = qk_scale or head_dim ** -0.5\n",
        "\n",
        "        # define a parameter table of relative position bias\n",
        "        self.relative_position_bias_table = nn.Parameter(\n",
        "            torch.zeros((2 * window_size[0] - 1) * (2 * window_size[1] - 1), num_heads))  # 2*Wh-1 * 2*Ww-1, nH\n",
        "\n",
        "        # get pair-wise relative position index for each token inside the window\n",
        "        coords_h = torch.arange(self.window_size[0])\n",
        "        coords_w = torch.arange(self.window_size[1])\n",
        "        coords = torch.stack(torch.meshgrid([coords_h, coords_w]))  # 2, Wh, Ww\n",
        "        coords_flatten = torch.flatten(coords, 1)  # 2, Wh*Ww\n",
        "        relative_coords = coords_flatten[:, :, None] - coords_flatten[:, None, :]  # 2, Wh*Ww, Wh*Ww\n",
        "        relative_coords = relative_coords.permute(1, 2, 0).contiguous()  # Wh*Ww, Wh*Ww, 2\n",
        "        relative_coords[:, :, 0] += self.window_size[0] - 1  # shift to start from 0\n",
        "        relative_coords[:, :, 1] += self.window_size[1] - 1\n",
        "        relative_coords[:, :, 0] *= 2 * self.window_size[1] - 1\n",
        "        relative_position_index = relative_coords.sum(-1)  # Wh*Ww, Wh*Ww\n",
        "        self.register_buffer(\"relative_position_index\", relative_position_index)\n",
        "        torch.nn.init.trunc_normal_(self.relative_position_bias_table, std=.02)\n",
        "\n",
        "        self.attn_drop = nn.Dropout(attn_drop)\n",
        "\n",
        "        self.softmax = nn.Softmax(dim=-1)\n",
        "\n",
        "    def forward(self, q, k, v, mask=None):\n",
        "        \"\"\"\n",
        "        Args:\n",
        "            q: queries with shape of (num_windows*B, N, C)\n",
        "            k: keys with shape of (num_windows*B, N, C)\n",
        "            v: values with shape of (num_windows*B, N, C)\n",
        "            mask: (0/-inf) mask with shape of (num_windows, Wh*Ww, Wh*Ww) or None\n",
        "        \"\"\"\n",
        "        B_, N, C = q.shape\n",
        "        q = q.reshape(B_, N, self.num_heads, C // self.num_heads).permute(0, 2, 1, 3)\n",
        "        k = k.reshape(B_, N, self.num_heads, C // self.num_heads).permute(0, 2, 1, 3)\n",
        "        v = v.reshape(B_, N, self.num_heads, C // self.num_heads).permute(0, 2, 1, 3)\n",
        "\n",
        "        q = q * self.scale\n",
        "        attn = (q @ k.transpose(-2, -1))\n",
        "\n",
        "        relative_position_bias = self.relative_position_bias_table[self.relative_position_index.view(-1)].view(\n",
        "            self.window_size[0] * self.window_size[1], self.window_size[0] * self.window_size[1], -1)  # Wh*Ww,Wh*Ww,nH\n",
        "        relative_position_bias = relative_position_bias.permute(2, 0, 1).contiguous()  # nH, Wh*Ww, Wh*Ww\n",
        "        attn = attn + relative_position_bias.unsqueeze(0)\n",
        "\n",
        "        if mask is not None:\n",
        "            nW = mask.shape[0]\n",
        "            attn = attn.view(B_ // nW, nW, self.num_heads, N, N) + mask.unsqueeze(1).unsqueeze(0)\n",
        "            attn = attn.view(-1, self.num_heads, N, N)\n",
        "            attn = self.softmax(attn)\n",
        "        else:\n",
        "            attn = self.softmax(attn)\n",
        "\n",
        "        attn = self.attn_drop(attn)\n",
        "        x = (attn @ v).transpose(1, 2).reshape(B_, N, C)\n",
        "        \n",
        "        return x"
      ],
      "metadata": {
        "id": "Q0CihEELlgNa"
      },
      "execution_count": 78,
      "outputs": []
    },
    {
      "cell_type": "markdown",
      "source": [
        "## MLP"
      ],
      "metadata": {
        "id": "g5mRpESwmzZq"
      }
    },
    {
      "cell_type": "code",
      "source": [
        "class Mlp(nn.Module):\n",
        "    def __init__(self, in_features, hidden_features=None, out_features=None, act_layer=nn.GELU, drop=0.):\n",
        "        super().__init__()\n",
        "        out_features = out_features or in_features\n",
        "        hidden_features = hidden_features or in_features\n",
        "        self.hidden_features = hidden_features\n",
        "        self.fc1 = nn.Linear(in_features, hidden_features)\n",
        "        self.act = act_layer()\n",
        "        self.fc2 = nn.Linear(hidden_features, out_features)\n",
        "        self.drop = nn.Dropout(drop)\n",
        "\n",
        "    def forward(self, x):\n",
        "        x = self.fc1(x)\n",
        "        x = self.act(x)\n",
        "        x = self.drop(x)\n",
        "        x = self.fc2(x)\n",
        "        x = self.drop(x)\n",
        "        return x"
      ],
      "metadata": {
        "id": "tuixyR_4nCxW"
      },
      "execution_count": 81,
      "outputs": []
    },
    {
      "cell_type": "markdown",
      "source": [
        "## Swin Transformer"
      ],
      "metadata": {
        "id": "_HP9ydhplntH"
      }
    },
    {
      "cell_type": "code",
      "source": [
        "\n",
        "def window_partition(x, window_size):\n",
        "    \"\"\"\n",
        "    Args:\n",
        "        x: (B, H, W, C)\n",
        "        window_size (int): window size\n",
        "    Returns:\n",
        "        windows: (num_windows*B, window_size, window_size, C)\n",
        "    \"\"\"\n",
        "    B, H, W, C = x.shape\n",
        "    x = x.view(B, H // window_size, window_size, W // window_size, window_size, C)\n",
        "    windows = x.permute(0, 1, 3, 2, 4, 5).contiguous().view(-1, window_size, window_size, C)\n",
        "    return windows\n",
        "\n",
        "\n",
        "def window_reverse(windows, window_size, H, W):\n",
        "    \"\"\"\n",
        "    Args:\n",
        "        windows: (num_windows*B, window_size, window_size, C)\n",
        "        window_size (int): Window size\n",
        "        H (int): Height of image\n",
        "        W (int): Width of image\n",
        "    Returns:\n",
        "        x: (B, H, W, C)\n",
        "    \"\"\"\n",
        "    B = int(windows.shape[0] / (H * W / window_size / window_size))\n",
        "    x = windows.view(B, H // window_size, W // window_size, window_size, window_size, -1)\n",
        "    x = x.permute(0, 1, 3, 2, 4, 5).contiguous().view(B, H, W, -1)\n",
        "    return x"
      ],
      "metadata": {
        "id": "3KL3-ojnmpbg"
      },
      "execution_count": 80,
      "outputs": []
    },
    {
      "cell_type": "code",
      "source": [
        "class StyleSwinTransformerBlock(nn.Module):\n",
        "    r\"\"\" StyleSwin Transformer Block.\n",
        "    Args:\n",
        "        dim (int): Number of input channels.\n",
        "        input_resolution (tuple[int]): Input resulotion.\n",
        "        num_heads (int): Number of attention heads.\n",
        "        window_size (int): Window size.\n",
        "        shift_size (int): Shift size for SW-MSA.\n",
        "        mlp_ratio (float): Ratio of mlp hidden dim to embedding dim.\n",
        "        qkv_bias (bool, optional): If True, add a learnable bias to query, key, value. Default: True\n",
        "        qk_scale (float | None, optional): Override default qk scale of head_dim ** -0.5 if set.\n",
        "        drop (float, optional): Dropout rate. Default: 0.0\n",
        "        attn_drop (float, optional): Attention dropout rate. Default: 0.0\n",
        "        drop_path (float, optional): Stochastic depth rate. Default: 0.0\n",
        "        act_layer (nn.Module, optional): Activation layer. Default: nn.GELU\n",
        "        style_dim (int): Dimension of style vector.\n",
        "    \"\"\"\n",
        "\n",
        "    def __init__(self, dim, input_resolution, num_heads, window_size=7,\n",
        "                 mlp_ratio=4., qkv_bias=True, qk_scale=None, drop=0., attn_drop=0.,\n",
        "                 act_layer=nn.GELU, style_dim=512):\n",
        "        super().__init__()\n",
        "        self.dim = dim\n",
        "        self.input_resolution = input_resolution\n",
        "        self.num_heads = num_heads\n",
        "        self.window_size = window_size\n",
        "        self.mlp_ratio = mlp_ratio\n",
        "        self.shift_size = self.window_size // 2\n",
        "        self.style_dim = style_dim\n",
        "        if min(self.input_resolution) <= self.window_size:\n",
        "            # if window size is larger than input resolution, we don't partition windows\n",
        "            self.shift_size = 0\n",
        "            self.window_size = min(self.input_resolution)\n",
        "        assert 0 <= self.shift_size < self.window_size, \"shift_size must in 0-window_size\"\n",
        "\n",
        "        self.norm1 = AdaIN(dim, style_dim)\n",
        "        self.qkv = nn.Linear(dim, dim * 3, bias=qkv_bias)\n",
        "        self.proj = nn.Linear(dim, dim)\n",
        "        self.attn = nn.ModuleList([\n",
        "            WindowAttention(\n",
        "                dim // 2, window_size=(self.window_size, self.window_size), num_heads=num_heads // 2,\n",
        "                qk_scale=qk_scale, attn_drop=attn_drop),\n",
        "            WindowAttention(\n",
        "                dim // 2, window_size=(self.window_size, self.window_size), num_heads=num_heads // 2,\n",
        "                qk_scale=qk_scale, attn_drop=attn_drop),\n",
        "        ])\n",
        "        \n",
        "        attn_mask1 = None\n",
        "        attn_mask2 = None\n",
        "        if self.shift_size > 0:\n",
        "            # calculate attention mask for SW-MSA\n",
        "            H, W = self.input_resolution\n",
        "            img_mask = torch.zeros((1, H, W, 1))  # 1 H W 1\n",
        "            h_slices = (slice(0, -self.window_size),\n",
        "                        slice(-self.window_size, -self.shift_size),\n",
        "                        slice(-self.shift_size, None))\n",
        "            w_slices = (slice(0, -self.window_size),\n",
        "                        slice(-self.window_size, -self.shift_size),\n",
        "                        slice(-self.shift_size, None))\n",
        "            cnt = 0\n",
        "            for h in h_slices:\n",
        "                for w in w_slices:\n",
        "                    img_mask[:, h, w, :] = cnt\n",
        "                    cnt += 1\n",
        "\n",
        "            # nW, window_size, window_size, 1\n",
        "            mask_windows = window_partition(img_mask, self.window_size)\n",
        "            mask_windows = mask_windows.view(-1,\n",
        "                                            self.window_size * self.window_size)\n",
        "            attn_mask2 = mask_windows.unsqueeze(1) - mask_windows.unsqueeze(2)\n",
        "            attn_mask2 = attn_mask2.masked_fill(\n",
        "                attn_mask2 != 0, float(-100.0)).masked_fill(attn_mask2 == 0, float(0.0))\n",
        "        \n",
        "        self.register_buffer(\"attn_mask1\", attn_mask1)\n",
        "        self.register_buffer(\"attn_mask2\", attn_mask2)\n",
        "\n",
        "        self.norm2 = AdaIN(dim, style_dim)\n",
        "        mlp_hidden_dim = int(dim * mlp_ratio)\n",
        "        self.mlp = Mlp(in_features=dim, hidden_features=mlp_hidden_dim, act_layer=act_layer, drop=drop)\n",
        "\n",
        "    def forward(self, x, style):\n",
        "        H, W = self.input_resolution\n",
        "        B, L, C = x.shape\n",
        "        assert L == H * W, \"input feature has wrong size\"\n",
        "        \n",
        "        # Double Attn\n",
        "        shortcut = x\n",
        "        x = self.norm1(x.transpose(-1, -2).view(B, C, H, W), style).transpose(-1, -2)\n",
        "        qkv = self.qkv(x.permute(0, 2, 1))\n",
        "        qkv = qkv.reshape(B, -1, 3, C).permute(2, 0, 1, 3).reshape(3 * B, H, W, C)\n",
        "        qkv_1 = qkv[:, :, :, : C // 2].reshape(3, B, H, W, C // 2)\n",
        "        if self.shift_size > 0:\n",
        "            qkv_2 = torch.roll(qkv[:, :, :, C // 2:], shifts=(-self.shift_size, -self.shift_size), dims=(1, 2)).reshape(3, B, H, W, C // 2)\n",
        "        else:\n",
        "            qkv_2 = qkv[:, :, :, C // 2:].reshape(3, B, H, W, C // 2)\n",
        "        \n",
        "        q1_windows, k1_windows, v1_windows = self.get_window_qkv(qkv_1)\n",
        "        q2_windows, k2_windows, v2_windows = self.get_window_qkv(qkv_2)\n",
        "\n",
        "        x1 = self.attn[0](q1_windows, k1_windows, v1_windows, self.attn_mask1)\n",
        "        x2 = self.attn[1](q2_windows, k2_windows, v2_windows, self.attn_mask2)\n",
        "        \n",
        "        x1 = window_reverse(x1.view(-1, self.window_size * self.window_size, C // 2), self.window_size, H, W)\n",
        "        x2 = window_reverse(x2.view(-1, self.window_size * self.window_size, C // 2), self.window_size, H, W)\n",
        "\n",
        "        if self.shift_size > 0:\n",
        "            x2 = torch.roll(x2, shifts=(self.shift_size, self.shift_size), dims=(1, 2))\n",
        "        else:\n",
        "            x2 = x2\n",
        "\n",
        "        x = torch.cat([x1.reshape(B, H * W, C // 2), x2.reshape(B, H * W, C // 2)], dim=2)\n",
        "        x = self.proj(x)\n",
        "\n",
        "        # FFN\n",
        "        x = shortcut + x\n",
        "        x = x + self.mlp(self.norm2(x.transpose(-1, -2).view(B, C, H, W), style))\n",
        "        return x\n",
        "    \n",
        "    def get_window_qkv(self, qkv):\n",
        "        q, k, v = qkv[0], qkv[1], qkv[2]   # B, H, W, C\n",
        "        C = q.shape[-1]\n",
        "        q_windows = window_partition(q, self.window_size).view(-1, self.window_size * self.window_size, C)  # nW*B, window_size*window_size, C\n",
        "        k_windows = window_partition(k, self.window_size).view(-1, self.window_size * self.window_size, C)  # nW*B, window_size*window_size, C\n",
        "        v_windows = window_partition(v, self.window_size).view(-1, self.window_size * self.window_size, C)  # nW*B, window_size*window_size, C\n",
        "        return q_windows, k_windows, v_windows"
      ],
      "metadata": {
        "id": "8HmpOQkgmguP"
      },
      "execution_count": 105,
      "outputs": []
    },
    {
      "cell_type": "code",
      "source": [
        "# TEST\n",
        "input = x.clone()\n",
        "print(\"Input:\", input.size())\n",
        "num_heads = 16\n",
        "swinblock = StyleSwinTransformerBlock(dim= channel_dim, input_resolution = (dim, dim), num_heads=num_heads, style_dim=256)\n",
        "xx = swinblock(input, style)\n",
        "print(\"xx:\", xx.size())"
      ],
      "metadata": {
        "colab": {
          "base_uri": "https://localhost:8080/"
        },
        "id": "r968Oo3_mhW2",
        "outputId": "88d8fe1d-a3af-45d1-9dda-c4eda4a09aa7"
      },
      "execution_count": 106,
      "outputs": [
        {
          "output_type": "stream",
          "name": "stdout",
          "text": [
            "Input: torch.Size([2, 16, 512])\n",
            "xx: torch.Size([2, 16, 512])\n"
          ]
        }
      ]
    },
    {
      "cell_type": "markdown",
      "source": [
        "## Upsample"
      ],
      "metadata": {
        "id": "QFJWoUvBuX_c"
      }
    },
    {
      "cell_type": "code",
      "source": [
        "class Upsample(nn.Module):\n",
        "  def __init__(self):\n",
        "    super().__init__()\n",
        "    self.upsample = torch.nn.Upsample(scale_factor=2, mode='nearest')\n",
        "\n",
        "  def forward(self, x):\n",
        "      '''\n",
        "      Expected Size: [B x H x W x C]\n",
        "      '''\n",
        "      x = x.permute(0, 3, 1, 2) # [B x C x H x W]\n",
        "      x = self.upsample(x)      # [B x C x 2H x 2W]\n",
        "      x = x.permute(0, 2, 3, 1) # [B x 2H x 2W x C]\n",
        "      return x"
      ],
      "metadata": {
        "id": "mr6fzHTzuZ6d"
      },
      "execution_count": 109,
      "outputs": []
    },
    {
      "cell_type": "code",
      "source": [
        "# TEST\n",
        "x = xx.clone()\n",
        "B, L, C = x.size()\n",
        "x = x.view(B, int(L**0.5), int(L**0.5), C)\n",
        "up = Upsample()\n",
        "out = up(x)\n",
        "print(\"out:\", out.size())"
      ],
      "metadata": {
        "colab": {
          "base_uri": "https://localhost:8080/"
        },
        "id": "C2NLPUIH0G_n",
        "outputId": "a9cef7d6-cb92-4c16-b9ae-a858ab636b03"
      },
      "execution_count": 111,
      "outputs": [
        {
          "output_type": "stream",
          "name": "stdout",
          "text": [
            "out: torch.Size([2, 8, 8, 512])\n"
          ]
        }
      ]
    },
    {
      "cell_type": "markdown",
      "source": [
        "## ToRGB"
      ],
      "metadata": {
        "id": "KlxCYJMH0VPV"
      }
    },
    {
      "cell_type": "code",
      "source": [
        "class tRGB(nn.Module):\n",
        "  '''\n",
        "  Expected Size: [B x H x W x C]\n",
        "  Returns: [B x H x W x 3]\n",
        "  '''\n",
        "  def __init__(self, in_channels, kernel_size=1):\n",
        "    super().__init__()\n",
        "    self.downsample = nn.Conv2d(in_channels, 3, kernel_size=kernel_size)\n",
        "  \n",
        "  def forward(self, x):\n",
        "    B, L, C = x.size()\n",
        "    D = int(L**0.5) \n",
        "    return self.downsample(x.view(B, D, D, C).permute(0, 3, 1, 2))"
      ],
      "metadata": {
        "id": "jxTb3do21DtM"
      },
      "execution_count": 123,
      "outputs": []
    },
    {
      "cell_type": "code",
      "source": [
        "# TEST\n",
        "before_tRGB = xx.clone()\n",
        "kernel_size = 1\n",
        "print(\"\")\n",
        "trgb = tRGB(channel_dim, kernel_size)\n",
        "out_trgb = trgb(before_tRGB)\n",
        "print(\"Out TRGB:\", out_trgb.size())"
      ],
      "metadata": {
        "colab": {
          "base_uri": "https://localhost:8080/"
        },
        "id": "smdU4PKn1w0j",
        "outputId": "41397633-4b16-4b0f-f20f-633835543c34"
      },
      "execution_count": 124,
      "outputs": [
        {
          "output_type": "stream",
          "name": "stdout",
          "text": [
            "\n",
            "Out TRGB: torch.Size([2, 3, 4, 4])\n"
          ]
        }
      ]
    },
    {
      "cell_type": "code",
      "source": [
        "xx.size()"
      ],
      "metadata": {
        "colab": {
          "base_uri": "https://localhost:8080/"
        },
        "id": "ropR1ub12ddN",
        "outputId": "a9e67c36-e41e-425c-b154-f8e4690c7912"
      },
      "execution_count": 113,
      "outputs": [
        {
          "output_type": "execute_result",
          "data": {
            "text/plain": [
              "torch.Size([2, 16, 512])"
            ]
          },
          "metadata": {},
          "execution_count": 113
        }
      ]
    },
    {
      "cell_type": "code",
      "source": [
        "channel_dim"
      ],
      "metadata": {
        "colab": {
          "base_uri": "https://localhost:8080/"
        },
        "id": "A2wk3hxW2enj",
        "outputId": "6a24f396-29e0-46d2-b2ea-44b363c7a6b3"
      },
      "execution_count": 122,
      "outputs": [
        {
          "output_type": "execute_result",
          "data": {
            "text/plain": [
              "512"
            ]
          },
          "metadata": {},
          "execution_count": 122
        }
      ]
    },
    {
      "cell_type": "markdown",
      "source": [
        "## New"
      ],
      "metadata": {
        "id": "hV7bTTTB4prw"
      }
    },
    {
      "cell_type": "code",
      "source": [
        ""
      ],
      "metadata": {
        "id": "FVlYzL3s6F3-"
      },
      "execution_count": null,
      "outputs": []
    }
  ]
}